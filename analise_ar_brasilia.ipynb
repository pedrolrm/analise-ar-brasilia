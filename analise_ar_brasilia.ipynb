{
  "nbformat": 4,
  "nbformat_minor": 0,
  "metadata": {
    "colab": {
      "provenance": []
    },
    "kernelspec": {
      "name": "python3",
      "display_name": "Python 3"
    },
    "language_info": {
      "name": "python"
    }
  },
  "cells": [
    {
      "cell_type": "markdown",
      "source": [
        "#Análise de dados acerca das recentes queimadas no Distrito Federal\n",
        "Recentemente, os moradores do Distrito Federal têm enfrentado sérios problemas relacionados à poluição do ar devido às queimadas. Esta análise, utilizando dados obtidos através da API da OpenWeather, visa comparar os índices de poluição do ar durante o mesmo período dos anos de 2023 e 2024, para entender melhor o impacto das queimadas e avaliar a gravidade da situação."
      ],
      "metadata": {
        "id": "QBbzgvnHCGkR"
      }
    },
    {
      "cell_type": "markdown",
      "source": [
        "#Importando bibliotecas utilizadas na analise"
      ],
      "metadata": {
        "id": "xFS85tKoDzeI"
      }
    },
    {
      "cell_type": "code",
      "source": [
        "import requests\n",
        "import time\n",
        "import json\n",
        "import pandas as pd\n",
        "import matplotlib.pyplot as plt"
      ],
      "metadata": {
        "id": "s34o_F7FDyzb"
      },
      "execution_count": 1,
      "outputs": []
    },
    {
      "cell_type": "markdown",
      "source": [
        "#Obtenção dos dados via API da OpenWeather"
      ],
      "metadata": {
        "id": "Ntp834jbDE1Y"
      }
    },
    {
      "cell_type": "code",
      "source": [
        "# Substitua pela sua chave de API\n",
        "api_key = \"sua chave api\"\n",
        "\n",
        "# Latitude e Longitude de Brasília\n",
        "lat = \"-15.7801\"\n",
        "lon = \"-47.9292\"\n",
        "\n",
        "# Função para coletar dados de um período específico\n",
        "def coletar_dados(start_date, end_date, api_key):\n",
        "    start = int(time.mktime(time.strptime(start_date, \"%Y-%m-%d %H:%M:%S\")))\n",
        "    end = int(time.mktime(time.strptime(end_date, \"%Y-%m-%d %H:%M:%S\")))\n",
        "\n",
        "    url = f\"http://api.openweathermap.org/data/2.5/air_pollution/history?lat={lat}&lon={lon}&start={start}&end={end}&appid={api_key}\"\n",
        "\n",
        "    response = requests.get(url)\n",
        "\n",
        "    if response.status_code == 200:\n",
        "        return response.json()\n",
        "    else:\n",
        "        raise Exception(f\"Erro ao fazer requisição: {response.status_code}\")\n",
        "\n",
        "# Coletando dados de 2024\n",
        "data_2024 = coletar_dados(\"2024-07-17 00:00:00\", \"2024-09-17 00:00:00\", api_key)\n",
        "\n",
        "# Coletando dados de 2023\n",
        "data_2023 = coletar_dados(\"2023-07-17 00:00:00\", \"2023-09-17 00:00:00\", api_key)\n",
        "\n",
        "# Função para extrair dados específicos\n",
        "def extrair_dados(data):\n",
        "    data_list = []\n",
        "    for entry in data['list']:\n",
        "        timestamp = entry['dt']\n",
        "        date_time = time.strftime('%Y-%m-%d %H:%M:%S', time.gmtime(timestamp))\n",
        "        pm2_5 = entry['components']['pm2_5']\n",
        "        pm10 = entry['components']['pm10']\n",
        "        co = entry['components']['co']\n",
        "        no2 = entry['components']['no2']\n",
        "        aqi = entry['main']['aqi']\n",
        "\n",
        "        data_list.append({\n",
        "            'Data': date_time,\n",
        "            'AQI': aqi,\n",
        "            'PM2.5': pm2_5,\n",
        "            'PM10': pm10,\n",
        "            'CO': co,\n",
        "            'NO2': no2,\n",
        "        })\n",
        "    return pd.DataFrame(data_list)\n",
        "\n",
        "# Convertendo os dados para DataFrames\n",
        "df_2024 = extrair_dados(data_2024)\n",
        "df_2023 = extrair_dados(data_2023)\n",
        "\n",
        "# Converta a coluna 'Data' para o formato datetime\n",
        "df_2024['Data'] = pd.to_datetime(df_2024['Data'])\n",
        "df_2023['Data'] = pd.to_datetime(df_2023['Data'])"
      ],
      "metadata": {
        "id": "8A1xgHMsGRT3",
        "colab": {
          "base_uri": "https://localhost:8080/",
          "height": 332
        },
        "outputId": "4eea14e9-79af-4903-e241-8702488bc00b"
      },
      "execution_count": 2,
      "outputs": [
        {
          "output_type": "error",
          "ename": "Exception",
          "evalue": "Erro ao fazer requisição: 401",
          "traceback": [
            "\u001b[0;31m---------------------------------------------------------------------------\u001b[0m",
            "\u001b[0;31mException\u001b[0m                                 Traceback (most recent call last)",
            "\u001b[0;32m<ipython-input-2-08e41aefa9d1>\u001b[0m in \u001b[0;36m<cell line: 23>\u001b[0;34m()\u001b[0m\n\u001b[1;32m     21\u001b[0m \u001b[0;34m\u001b[0m\u001b[0m\n\u001b[1;32m     22\u001b[0m \u001b[0;31m# Coletando dados de 2024\u001b[0m\u001b[0;34m\u001b[0m\u001b[0;34m\u001b[0m\u001b[0m\n\u001b[0;32m---> 23\u001b[0;31m \u001b[0mdata_2024\u001b[0m \u001b[0;34m=\u001b[0m \u001b[0mcoletar_dados\u001b[0m\u001b[0;34m(\u001b[0m\u001b[0;34m\"2024-07-17 00:00:00\"\u001b[0m\u001b[0;34m,\u001b[0m \u001b[0;34m\"2024-09-17 00:00:00\"\u001b[0m\u001b[0;34m,\u001b[0m \u001b[0mapi_key\u001b[0m\u001b[0;34m)\u001b[0m\u001b[0;34m\u001b[0m\u001b[0;34m\u001b[0m\u001b[0m\n\u001b[0m\u001b[1;32m     24\u001b[0m \u001b[0;34m\u001b[0m\u001b[0m\n\u001b[1;32m     25\u001b[0m \u001b[0;31m# Coletando dados de 2023\u001b[0m\u001b[0;34m\u001b[0m\u001b[0;34m\u001b[0m\u001b[0m\n",
            "\u001b[0;32m<ipython-input-2-08e41aefa9d1>\u001b[0m in \u001b[0;36mcoletar_dados\u001b[0;34m(start_date, end_date, api_key)\u001b[0m\n\u001b[1;32m     18\u001b[0m         \u001b[0;32mreturn\u001b[0m \u001b[0mresponse\u001b[0m\u001b[0;34m.\u001b[0m\u001b[0mjson\u001b[0m\u001b[0;34m(\u001b[0m\u001b[0;34m)\u001b[0m\u001b[0;34m\u001b[0m\u001b[0;34m\u001b[0m\u001b[0m\n\u001b[1;32m     19\u001b[0m     \u001b[0;32melse\u001b[0m\u001b[0;34m:\u001b[0m\u001b[0;34m\u001b[0m\u001b[0;34m\u001b[0m\u001b[0m\n\u001b[0;32m---> 20\u001b[0;31m         \u001b[0;32mraise\u001b[0m \u001b[0mException\u001b[0m\u001b[0;34m(\u001b[0m\u001b[0;34mf\"Erro ao fazer requisição: {response.status_code}\"\u001b[0m\u001b[0;34m)\u001b[0m\u001b[0;34m\u001b[0m\u001b[0;34m\u001b[0m\u001b[0m\n\u001b[0m\u001b[1;32m     21\u001b[0m \u001b[0;34m\u001b[0m\u001b[0m\n\u001b[1;32m     22\u001b[0m \u001b[0;31m# Coletando dados de 2024\u001b[0m\u001b[0;34m\u001b[0m\u001b[0;34m\u001b[0m\u001b[0m\n",
            "\u001b[0;31mException\u001b[0m: Erro ao fazer requisição: 401"
          ]
        }
      ]
    },
    {
      "cell_type": "markdown",
      "source": [
        "#Analise exploratória de dados (EDA)\n",
        "Esta análise tem como objetivo comparar as métricas de poluição do ar durante um período de 2 meses em 2023 e 2024."
      ],
      "metadata": {
        "id": "EAWUb_9xHq4B"
      }
    },
    {
      "cell_type": "markdown",
      "source": [
        "#Primeira comparação: níveis de PM2.5 e PM10 no ar de Brasília\n",
        "Material Particulado (PM): Inclui partículas de diferentes tamanhos, como PM2.5 (partículas com diâmetro menor que 2,5 micrômetros) e PM10 (partículas com diâmetro menor que 10 micrômetros). Essas partículas podem penetrar profundamente nos pulmões e causar problemas respiratórios e cardiovasculares"
      ],
      "metadata": {
        "id": "GBc5zwRCJSdR"
      }
    },
    {
      "cell_type": "code",
      "source": [
        "# Converta a coluna 'Data' para o formato datetime para facilitar a manipulação\n",
        "df_2024['Data'] = pd.to_datetime(df_2024['Data'])\n",
        "df_2023['Data'] = pd.to_datetime(df_2023['Data'])\n",
        "\n",
        "# Determinando o intervalo máximo para o eixo y\n",
        "max_pm25_2024 = df_2024['PM2.5'].max()\n",
        "max_pm10_2024 = df_2024['PM10'].max()\n",
        "max_pm25_2023 = df_2023['PM2.5'].max()\n",
        "max_pm10_2023 = df_2023['PM10'].max()\n",
        "\n",
        "max_pm25 = max(max_pm25_2024, max_pm25_2023)\n",
        "max_pm10 = max(max_pm10_2024, max_pm10_2023)\n",
        "\n",
        "# Definindo o tamanho do gráfico\n",
        "plt.figure(figsize=(14, 7))\n",
        "\n",
        "# Primeiro gráfico: Dados do período do ano 2023\n",
        "plt.subplot(1, 2, 1)\n",
        "plt.plot(df_2023['Data'], df_2023['PM2.5'], label='PM2.5', linestyle='-', color='blue')\n",
        "plt.plot(df_2023['Data'], df_2023['PM10'], label='PM10', linestyle='-', color='red')\n",
        "plt.title('Poluição do Ar por Material Particulado (DF) - 2023')\n",
        "plt.xlabel('Data')\n",
        "plt.ylabel('Concentração de Poluentes (µg/m³)')\n",
        "plt.legend()\n",
        "plt.xticks(rotation=45)\n",
        "plt.ylim(0, max_pm25 + 10)  # Ajusta o intervalo do eixo y com o mesmo valor\n",
        "\n",
        "# Segundo gráfico: Dados do período 2024\n",
        "plt.subplot(1, 2, 2)\n",
        "plt.plot(df_2024['Data'], df_2024['PM2.5'], label='PM2.5', linestyle='-', color='blue')\n",
        "plt.plot(df_2024['Data'], df_2024['PM10'], label='PM10', linestyle='-', color='red')\n",
        "plt.title('Poluição do Ar por Material Particulado (DF) - 2024')\n",
        "plt.xlabel('Data')\n",
        "plt.ylabel('Concentração de Poluentes (µg/m³)')\n",
        "plt.legend()\n",
        "plt.xticks(rotation=45)\n",
        "plt.ylim(0, max_pm25 + 10)  # Ajusta o intervalo do eixo y com um pequeno buffer\n",
        "\n",
        "# Ajustando o layout para que os gráficos não se sobreponham\n",
        "plt.tight_layout()\n",
        "\n",
        "# Exibindo os gráficos\n",
        "plt.show()"
      ],
      "metadata": {
        "id": "mYX5J_jBIOTN"
      },
      "execution_count": null,
      "outputs": []
    },
    {
      "cell_type": "markdown",
      "source": [
        "#Verificando quantas vezes o ar de Brasília ultrapassou os limites de poluição por PM estabelecidos pela OMS"
      ],
      "metadata": {
        "id": "3ozWA4jjMHE8"
      }
    },
    {
      "cell_type": "code",
      "source": [
        "oms_limits = {\n",
        "    'PM2.5_daily': 15,  # µg/m³\n",
        "    'PM10_daily': 45   # µg/m³\n",
        "}\n",
        "\n",
        "# Agrupar os dados por dia e calcular a média\n",
        "daily_avg_2023 = df_2023.resample('D', on='Data').mean()\n",
        "daily_avg_2024 = df_2024.resample('D', on='Data').mean()\n",
        "\n",
        "# Contar dias que excedem os limites para 2023\n",
        "count_2023_pm25 = (daily_avg_2023['PM2.5'] > oms_limits['PM2.5_daily']).sum()\n",
        "count_2023_pm10 = (daily_avg_2023['PM10'] > oms_limits['PM10_daily']).sum()\n",
        "\n",
        "# Contar dias que excedem os limites para 2024\n",
        "count_2024_pm25 = (daily_avg_2024['PM2.5'] > oms_limits['PM2.5_daily']).sum()\n",
        "count_2024_pm10 = (daily_avg_2024['PM10'] > oms_limits['PM10_daily']).sum()\n",
        "\n",
        "# Exibir os resultados\n",
        "print('-'*110)\n",
        "print(f\"2023 - Número de dias que PM2.5 excedeu o limite da OMS: {count_2023_pm25}\")\n",
        "print(f\"2023 - Número de dias que PM10 excedeu o limite da OMS: {count_2023_pm10}\")\n",
        "print('-'*110)\n",
        "print(f\"2024 - Número de dias que PM2.5 excedeu o limite da OMS: {count_2024_pm25}\")\n",
        "print(f\"2024 - Número de dias que PM10 excedeu o limite da OMS: {count_2024_pm10}\")\n",
        "print('-'*110)\n",
        "print(f'Em 2024, ocorreu um aumento de {int(count_2024_pm25 / count_2023_pm25 * 100 - 100)}% na quantidade de dias que o limite da OMS para PM2.5 foi ultrapassado')\n",
        "print('-'*110)\n"
      ],
      "metadata": {
        "id": "qWDmieuoLnCO"
      },
      "execution_count": null,
      "outputs": []
    },
    {
      "cell_type": "markdown",
      "source": [
        "#Segunda comparação: níveis de NO2 no ar de Brasília\n",
        "Dióxido de Nitrogênio (NO₂): gás que resulta principalmente da queima de combustíveis fósseis, como carvão e petróleo, mas também é liberado durante as queimadas. Este gás é um poluente atmosférico que pode causar irritação nas vias respiratórias, aumentar a susceptibilidade a infecções respiratórias e agravar doenças como asma e bronquite. Além disso, o NO₂ contribui para a formação de ozônio troposférico e partículas finas, que têm impactos adicionais na saúde humana e ambiental."
      ],
      "metadata": {
        "id": "55q-XcfUOXST"
      }
    },
    {
      "cell_type": "code",
      "source": [
        "# Tratando outiliers nos dados acerca da concentração de NO2\n",
        "min_valid_no2 = 0\n",
        "max_valid_no2 = 300\n",
        "\n",
        "# Filtrando os dados para remover outliers\n",
        "df_2024_clean = df_2024[(df_2024['NO2'] >= min_valid_no2) & (df_2024['NO2'] <= max_valid_no2)]\n",
        "df_2023_clean = df_2023[(df_2023['NO2'] >= min_valid_no2) & (df_2023['NO2'] <= max_valid_no2)]\n"
      ],
      "metadata": {
        "id": "o18LV29tO6pJ"
      },
      "execution_count": null,
      "outputs": []
    },
    {
      "cell_type": "code",
      "source": [
        "# Determinando o intervalo máximo para o eixo y\n",
        "max_no2_2024 = df_2024['NO2'].max()\n",
        "max_no2_2023 = df_2023['NO2'].max()\n",
        "\n",
        "\n",
        "max_no2 = max(max_no2_2024, max_no2_2023)\n",
        "\n",
        "# Definindo o tamanho do gráfico\n",
        "plt.figure(figsize=(14, 7))\n",
        "\n",
        "# Primeiro gráfico: Dados do período do ano passado para NO2\n",
        "plt.subplot(1, 2, 1)\n",
        "plt.plot(df_2023['Data'], df_2023['NO2'], label='NO2', linestyle='-', color='purple')\n",
        "plt.title('Concentração de NO2 no Ar (DF) - 2023')\n",
        "plt.xlabel('Data')\n",
        "plt.ylabel('Concentração de NO2 (µg/m³)')\n",
        "plt.legend()\n",
        "plt.xticks(rotation=45)\n",
        "plt.ylim(0, max_no2 + 10)  # Ajusta o intervalo do eixo y com o mesmo valor\n",
        "\n",
        "# Segundo gráfico: Dados do período atual para NO2\n",
        "plt.subplot(1, 2, 2)\n",
        "plt.plot(df_2024['Data'], df_2024['NO2'], label='NO2', linestyle='-', color='purple')\n",
        "plt.title('Concentração de NO2 no Ar (DF) - 2024')\n",
        "plt.xlabel('Data')\n",
        "plt.ylabel('Concentração de NO2 (µg/m³)')\n",
        "plt.legend()\n",
        "plt.xticks(rotation=45)\n",
        "plt.ylim(0, max_no2 + 10)  # Ajusta o intervalo do eixo y com um pequeno buffer\n",
        "\n",
        "# Ajustando o layout para que os gráficos não se sobreponham\n",
        "plt.tight_layout()\n",
        "\n",
        "# Exibindo os gráficos\n",
        "plt.show()"
      ],
      "metadata": {
        "id": "3YT_SnbMPmg9"
      },
      "execution_count": null,
      "outputs": []
    },
    {
      "cell_type": "markdown",
      "source": [
        "#Terceira comparação: níveis de CO no ar de Brasília\n",
        "Monóxido de Carbono (CO): O Monóxido de Carbono é um gás produzido pela queima incompleta de matéria orgânica, como durante as queimadas. Este gás pode ser perigoso em altas concentrações, causando sintomas como dores de cabeça, tontura e, em casos extremos, envenenamento. A exposição prolongada ao CO pode levar a problemas graves de saúde, incluindo danos ao sistema cardiovascular e neurológico."
      ],
      "metadata": {
        "id": "bPkk6vvHQSsg"
      }
    },
    {
      "cell_type": "code",
      "source": [
        "# Determinando o intervalo máximo para o eixo y\n",
        "max_co_2024 = df_2024['CO'].max()\n",
        "max_co_2023 = df_2023['CO'].max()\n",
        "\n",
        "\n",
        "max_co = max(max_co_2024, max_co_2023)\n",
        "\n",
        "# Definindo o tamanho do gráfico\n",
        "plt.figure(figsize=(14, 7))\n",
        "\n",
        "# Primeiro gráfico: Dados do período do ano passado para CO\n",
        "plt.subplot(1, 2, 1)\n",
        "plt.plot(df_2023['Data'], df_2023['CO'], label='CO', linestyle='-', color='green')\n",
        "plt.title('Concentração de CO no Ar (DF) - 2023')\n",
        "plt.xlabel('Data')\n",
        "plt.ylabel('Concentração de CO no Ar (µg/m³)')\n",
        "plt.legend()\n",
        "plt.xticks(rotation=45)\n",
        "plt.ylim(0, max_co + 10)  # Ajusta o intervalo do eixo y com o mesmo valor\n",
        "\n",
        "# Segundo gráfico: Dados do período atual para CO\n",
        "plt.subplot(1, 2, 2)\n",
        "plt.plot(df_2024['Data'], df_2024['CO'], label='CO', linestyle='-', color='green')\n",
        "plt.title('Concentração de CO no Ar (DF) - 2024')\n",
        "plt.xlabel('Data')\n",
        "plt.ylabel('Concentração de CO (µg/m³)')\n",
        "plt.legend()\n",
        "plt.xticks(rotation=45)\n",
        "plt.ylim(0, max_co + 10)  # Ajusta o intervalo do eixo y com um pequeno buffer\n",
        "\n",
        "# Ajustando o layout para que os gráficos não se sobreponham\n",
        "plt.tight_layout()\n",
        "\n",
        "# Exibindo os gráficos\n",
        "plt.show()"
      ],
      "metadata": {
        "id": "NDkLeXFKQrBz"
      },
      "execution_count": null,
      "outputs": []
    },
    {
      "cell_type": "markdown",
      "source": [
        "#Conclusões gerais:\n",
        "De acordo com a análise, o principal problema gerado pelas queimadas durante esse período de 2024 são as micropartículas carregadas pelo ar. Essas partículas, especialmente PM2.5, têm sido predominantemente elevadas e representam um risco significativo para a saúde pública. O PM2.5, partículas com diâmetro menor que 2,5 micrômetros, pode penetrar profundamente nos pulmões e no sistema cardiovascular, agravando condições respiratórias e aumentando o risco de doenças cardíacas."
      ],
      "metadata": {
        "id": "QkjaK69QaQva"
      }
    }
  ]
}